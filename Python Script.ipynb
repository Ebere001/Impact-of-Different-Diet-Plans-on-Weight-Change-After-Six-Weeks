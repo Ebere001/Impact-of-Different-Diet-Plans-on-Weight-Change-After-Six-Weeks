{
 "cells": [
  {
   "cell_type": "code",
   "execution_count": 1,
   "id": "5afab330-6c02-44a9-9341-204d5c7d7abc",
   "metadata": {},
   "outputs": [],
   "source": [
    "from sqlalchemy import create_engine"
   ]
  },
  {
   "cell_type": "code",
   "execution_count": 2,
   "id": "562e1db0-bb78-4aec-8de2-e6c5a650c075",
   "metadata": {},
   "outputs": [],
   "source": [
    "import pandas as pd"
   ]
  },
  {
   "cell_type": "code",
   "execution_count": 53,
   "id": "6570d478-85c5-484b-9e14-9903925d3602",
   "metadata": {},
   "outputs": [],
   "source": [
    "server = 'UTILISATEUR-PC'\n",
    "database = 'Chidiebere'\n",
    "driver = 'ODBC Driver 17 for SQL Server'\n",
    "username = r'Utilisateur-PC\\Utilisateur'  \n",
    "password = ''"
   ]
  },
  {
   "cell_type": "code",
   "execution_count": 54,
   "id": "5ccb5d8a-ff4b-4642-b1bc-1d9cad81b6e2",
   "metadata": {},
   "outputs": [],
   "source": [
    "connection_string = (\n",
    "    \"mssql+pyodbc://UTILISATEUR-PC/Chidiebere?\"\n",
    "    \"driver=ODBC+Driver+17+for+SQL+Server&trusted_connection=yes\"\n",
    ")"
   ]
  },
  {
   "cell_type": "code",
   "execution_count": 55,
   "id": "62d0d314-865b-48b0-83d2-28e01d2ff95b",
   "metadata": {},
   "outputs": [],
   "source": [
    "engine = create_engine(connection_string)"
   ]
  },
  {
   "cell_type": "code",
   "execution_count": 56,
   "id": "a42d4b9c-f20e-4118-9cbc-7631a13538b9",
   "metadata": {},
   "outputs": [],
   "source": [
    "query= \"select * from Diet\""
   ]
  },
  {
   "cell_type": "code",
   "execution_count": 57,
   "id": "60559388-fa96-4cc7-84a4-8b4733c90a4c",
   "metadata": {},
   "outputs": [],
   "source": [
    "df = pd.read_sql(query, engine)"
   ]
  },
  {
   "cell_type": "code",
   "execution_count": 58,
   "id": "7457fc44-3ad0-4ce2-90fd-47003b69dd4a",
   "metadata": {},
   "outputs": [],
   "source": [
    "data= pd.read_sql(query,engine)"
   ]
  },
  {
   "cell_type": "code",
   "execution_count": 59,
   "id": "7060b5ba-ba95-4fea-b89f-f0cfcd956b60",
   "metadata": {},
   "outputs": [
    {
     "data": {
      "text/html": [
       "<div>\n",
       "<style scoped>\n",
       "    .dataframe tbody tr th:only-of-type {\n",
       "        vertical-align: middle;\n",
       "    }\n",
       "\n",
       "    .dataframe tbody tr th {\n",
       "        vertical-align: top;\n",
       "    }\n",
       "\n",
       "    .dataframe thead th {\n",
       "        text-align: right;\n",
       "    }\n",
       "</style>\n",
       "<table border=\"1\" class=\"dataframe\">\n",
       "  <thead>\n",
       "    <tr style=\"text-align: right;\">\n",
       "      <th></th>\n",
       "      <th>Person</th>\n",
       "      <th>gender</th>\n",
       "      <th>Age</th>\n",
       "      <th>Height</th>\n",
       "      <th>pre_weight</th>\n",
       "      <th>Diet</th>\n",
       "      <th>weight6weeks</th>\n",
       "    </tr>\n",
       "  </thead>\n",
       "  <tbody>\n",
       "    <tr>\n",
       "      <th>0</th>\n",
       "      <td>25</td>\n",
       "      <td>None</td>\n",
       "      <td>41</td>\n",
       "      <td>171</td>\n",
       "      <td>60</td>\n",
       "      <td>2</td>\n",
       "      <td>60.000000</td>\n",
       "    </tr>\n",
       "    <tr>\n",
       "      <th>1</th>\n",
       "      <td>26</td>\n",
       "      <td>None</td>\n",
       "      <td>32</td>\n",
       "      <td>174</td>\n",
       "      <td>103</td>\n",
       "      <td>2</td>\n",
       "      <td>103.000000</td>\n",
       "    </tr>\n",
       "    <tr>\n",
       "      <th>2</th>\n",
       "      <td>1</td>\n",
       "      <td>False</td>\n",
       "      <td>22</td>\n",
       "      <td>159</td>\n",
       "      <td>58</td>\n",
       "      <td>1</td>\n",
       "      <td>54.200001</td>\n",
       "    </tr>\n",
       "    <tr>\n",
       "      <th>3</th>\n",
       "      <td>2</td>\n",
       "      <td>False</td>\n",
       "      <td>46</td>\n",
       "      <td>192</td>\n",
       "      <td>60</td>\n",
       "      <td>1</td>\n",
       "      <td>54.000000</td>\n",
       "    </tr>\n",
       "    <tr>\n",
       "      <th>4</th>\n",
       "      <td>3</td>\n",
       "      <td>False</td>\n",
       "      <td>55</td>\n",
       "      <td>170</td>\n",
       "      <td>64</td>\n",
       "      <td>1</td>\n",
       "      <td>63.299999</td>\n",
       "    </tr>\n",
       "  </tbody>\n",
       "</table>\n",
       "</div>"
      ],
      "text/plain": [
       "   Person gender  Age  Height  pre_weight  Diet  weight6weeks\n",
       "0      25   None   41     171          60     2     60.000000\n",
       "1      26   None   32     174         103     2    103.000000\n",
       "2       1  False   22     159          58     1     54.200001\n",
       "3       2  False   46     192          60     1     54.000000\n",
       "4       3  False   55     170          64     1     63.299999"
      ]
     },
     "execution_count": 59,
     "metadata": {},
     "output_type": "execute_result"
    }
   ],
   "source": [
    "df.head(5)"
   ]
  },
  {
   "cell_type": "code",
   "execution_count": 60,
   "id": "b8215dfc-17b7-475d-81e6-91cc762f8204",
   "metadata": {},
   "outputs": [],
   "source": [
    "# Checking for significant outliers.\n",
    "\n",
    "import numpy as np\n",
    "from scipy.stats import zscore\n",
    "import seaborn as sns\n",
    "import matplotlib.pyplot as plt"
   ]
  },
  {
   "cell_type": "code",
   "execution_count": 61,
   "id": "7a0b9870-b235-4322-ad03-131c8e366d55",
   "metadata": {},
   "outputs": [],
   "source": [
    "def detect_outliers_zscore(data, group_col, value_col, threshold=3):\n",
    "    outlier_flags = pd.Series(False, index=data.index)\n",
    "    for group, group_data in data.groupby(group_col):\n",
    "        z_scores = np.abs(zscore(group_data[value_col]))\n",
    "        outlier_flags.loc[group_data.index] = z_scores > threshold\n",
    "    return outlier_flags"
   ]
  },
  {
   "cell_type": "code",
   "execution_count": 62,
   "id": "721ea3c7-4d46-4a55-9599-e377c87ded32",
   "metadata": {},
   "outputs": [],
   "source": [
    "zscore_outliers = detect_outliers_zscore(df, 'Diet', 'weight6weeks')"
   ]
  },
  {
   "cell_type": "code",
   "execution_count": 63,
   "id": "42be9cf3-991c-4f8e-b6e8-5cd6c8de1001",
   "metadata": {},
   "outputs": [
    {
     "name": "stdout",
     "output_type": "stream",
     "text": [
      "Z-Score Outliers Detected:\n",
      "   Person gender  Age  Height  pre_weight  Diet  weight6weeks\n",
      "1      26   None   32     174         103     2         103.0\n"
     ]
    }
   ],
   "source": [
    "outliers_df = df[zscore_outliers]\n",
    "print(\"Z-Score Outliers Detected:\")\n",
    "print(outliers_df)"
   ]
  },
  {
   "cell_type": "code",
   "execution_count": 64,
   "id": "45a1131c-7804-4aea-be05-4af766477d37",
   "metadata": {},
   "outputs": [
    {
     "data": {
      "image/png": "[encoded data removed]",
      "text/plain": [
       "<Figure size 800x600 with 1 Axes>"
      ]
     },
     "metadata": {},
     "output_type": "display_data"
    }
   ],
   "source": [
    "plt.figure(figsize=(8, 6))\n",
    "sns.boxplot(x='Diet', y='weight6weeks', data=df, hue='Diet', palette='Set3', legend=False)\n",
    "plt.title(\"Boxplot of weight6weeks by Diet\")\n",
    "plt.xlabel(\"Diet\")\n",
    "plt.ylabel(\"Weight after 6 Weeks\")\n",
    "plt.legend([], [], frameon=False)  \n",
    "plt.show()"
   ]
  },
  {
   "cell_type": "code",
   "execution_count": 65,
   "id": "6ff4a1b0-40a1-41cf-accd-8dece5dc7081",
   "metadata": {},
   "outputs": [],
   "source": [
    "# Checking if the dependent variable(weight6weeks) is normally distributed.\n",
    "\n",
    "from scipy.stats import shapiro"
   ]
  },
  {
   "cell_type": "code",
   "execution_count": 66,
   "id": "70a2e59a-cf2b-43d4-85f9-990fa05a939b",
   "metadata": {},
   "outputs": [],
   "source": [
    "stat, p_value = shapiro(df['weight6weeks'].dropna())"
   ]
  },
  {
   "cell_type": "code",
   "execution_count": 67,
   "id": "560ce892-b1f4-4584-b765-19a6c14a4335",
   "metadata": {},
   "outputs": [
    {
     "name": "stdout",
     "output_type": "stream",
     "text": [
      "Shapiro-Wilk Test Statistic: 0.9579501486717568\n",
      "P-value: 0.011489306771877953\n"
     ]
    }
   ],
   "source": [
    "print(f\"Shapiro-Wilk Test Statistic: {stat}\")\n",
    "print(f\"P-value: {p_value}\")"
   ]
  },
  {
   "cell_type": "code",
   "execution_count": 68,
   "id": "5b08dc5e-f26c-4a7b-8abc-12ef88ba7629",
   "metadata": {},
   "outputs": [],
   "source": [
    "# Since the dependent variable (weight6weeks) was not normally distributed, a Box-Cox transformation was applied.\n",
    "\n",
    "from scipy.stats import boxcox"
   ]
  },
  {
   "cell_type": "code",
   "execution_count": 69,
   "id": "52235809-6b4d-48f6-84d7-8e0f76f4f052",
   "metadata": {},
   "outputs": [],
   "source": [
    "df = df.copy()\n",
    "if (df['weight6weeks'] <= 0).any():\n",
    "    raise ValueError(\"Box-Cox transformation requires strictly positive values.\")"
   ]
  },
  {
   "cell_type": "code",
   "execution_count": 70,
   "id": "291dfe1d-48be-4060-8041-1c7bc7b93c52",
   "metadata": {},
   "outputs": [],
   "source": [
    "transformed_values, fitted_lambda = boxcox(df['weight6weeks'])"
   ]
  },
  {
   "cell_type": "code",
   "execution_count": 71,
   "id": "17a805b7-c3f6-4c83-90f1-b82e4e4b5845",
   "metadata": {},
   "outputs": [],
   "source": [
    "df['weight6weeks_boxcox'] = transformed_values"
   ]
  },
  {
   "cell_type": "code",
   "execution_count": 72,
   "id": "e12181f7-019d-4e70-b6df-fda6c64c0019",
   "metadata": {},
   "outputs": [
    {
     "name": "stdout",
     "output_type": "stream",
     "text": [
      "Index(['Person', 'gender', 'Age', 'Height', 'pre_weight', 'Diet',\n",
      "       'weight6weeks', 'weight6weeks_boxcox'],\n",
      "      dtype='object')\n"
     ]
    }
   ],
   "source": [
    "print(df.columns)"
   ]
  },
  {
   "cell_type": "code",
   "execution_count": 73,
   "id": "bc78d112-5702-44c5-b912-ad5d7efb59dd",
   "metadata": {},
   "outputs": [
    {
     "name": "stdout",
     "output_type": "stream",
     "text": [
      "Shapiro-Wilk test on Box-Cox transformed data:\n",
      "  W = 0.9805, p = 0.2749\n"
     ]
    }
   ],
   "source": [
    "stat, p = shapiro(df['weight6weeks_boxcox'])\n",
    "print(f\"Shapiro-Wilk test on Box-Cox transformed data:\")\n",
    "print(f\"  W = {stat:.4f}, p = {p:.4f}\")"
   ]
  },
  {
   "cell_type": "code",
   "execution_count": 74,
   "id": "5d17d20d-06e9-4505-9387-43a4a5e44190",
   "metadata": {},
   "outputs": [],
   "source": [
    "# Since the dependent variable (weight6weeks) has been transformed into weight6weeks_boxcox and now follows a normal distribution, we can proceed to assess the normality within each group of the independent variable (Diet).\n",
    "\n",
    "def shapiro_grouped(df, value_col='weight6weeks_boxcox', group_col='Diet'):\n",
    "    print(f\"Shapiro-Wilk Normality Test for each group in '{group_col}' on '{value_col}'\\n\")\n",
    "    results = []\n",
    "\n",
    "    for group, subset in df.groupby(group_col):\n",
    "        data = subset[value_col].dropna()\n",
    "        stat, p = shapiro(data)\n",
    "        normal = 'Yes' if p > 0.05 else 'No'\n",
    "        print(f\"Diet {group}:\")\n",
    "        print(f\"  Sample size: {len(data)}\")\n",
    "        print(f\"  W statistic: {stat:.4f}\")\n",
    "        print(f\"  p-value:     {p:.4f}\")\n",
    "        print(f\"  Normal?      {normal} (at α = 0.05)\\n\")\n",
    "        results.append({'Diet': group, 'W statistic': stat, 'p-value': p, 'Normal?': normal})\n",
    "\n",
    "    return pd.DataFrame(results).set_index('Diet')"
   ]
  },
  {
   "cell_type": "code",
   "execution_count": 75,
   "id": "8ee22fb1-4991-4dc1-8159-e5c1318140e1",
   "metadata": {},
   "outputs": [
    {
     "name": "stdout",
     "output_type": "stream",
     "text": [
      "Shapiro-Wilk Normality Test for each group in 'Diet' on 'weight6weeks_boxcox'\n",
      "\n",
      "Diet 1:\n",
      "  Sample size: 24\n",
      "  W statistic: 0.9572\n",
      "  p-value:     0.3845\n",
      "  Normal?      Yes (at α = 0.05)\n",
      "\n",
      "Diet 2:\n",
      "  Sample size: 27\n",
      "  W statistic: 0.9460\n",
      "  p-value:     0.1709\n",
      "  Normal?      Yes (at α = 0.05)\n",
      "\n",
      "Diet 3:\n",
      "  Sample size: 27\n",
      "  W statistic: 0.9548\n",
      "  p-value:     0.2789\n",
      "  Normal?      Yes (at α = 0.05)\n",
      "\n"
     ]
    }
   ],
   "source": [
    "normality_results = shapiro_grouped(df)"
   ]
  },
  {
   "cell_type": "code",
   "execution_count": 76,
   "id": "931d68c1-f69f-42c9-a632-b88f7d6b3034",
   "metadata": {},
   "outputs": [],
   "source": [
    "# Checking for Homogeneity of variance (Levene's test > 0.05)\n",
    "\n",
    "from scipy.stats import levene"
   ]
  },
  {
   "cell_type": "code",
   "execution_count": 77,
   "id": "7d85a43c-5767-4a26-84d5-88ebb82495bf",
   "metadata": {},
   "outputs": [],
   "source": [
    "group1 = df[df['Diet'] == 1]['weight6weeks_boxcox'].dropna()\n",
    "group2 = df[df['Diet'] == 2]['weight6weeks_boxcox'].dropna()\n",
    "group3 = df[df['Diet'] == 3]['weight6weeks_boxcox'].dropna()"
   ]
  },
  {
   "cell_type": "code",
   "execution_count": 78,
   "id": "c6105637-f35e-4c0f-bfa2-0c18a303aead",
   "metadata": {},
   "outputs": [],
   "source": [
    "stat, p = levene(group1, group2, group3)"
   ]
  },
  {
   "cell_type": "code",
   "execution_count": 79,
   "id": "099b06d0-a6f1-4ecb-9252-1d9b802b4a4a",
   "metadata": {},
   "outputs": [
    {
     "name": "stdout",
     "output_type": "stream",
     "text": [
      "Levene’s Test for Homogeneity of Variances:\n",
      "  Test Statistic = 0.4523\n",
      "  p-value        = 0.6379\n"
     ]
    }
   ],
   "source": [
    "print(\"Levene’s Test for Homogeneity of Variances:\")\n",
    "print(f\"  Test Statistic = {stat:.4f}\")\n",
    "print(f\"  p-value        = {p:.4f}\")"
   ]
  },
  {
   "cell_type": "code",
   "execution_count": 80,
   "id": "4e9eec63-ac0e-461b-8ac2-86d108b4fdc5",
   "metadata": {},
   "outputs": [],
   "source": [
    "# After verifying all necessary assumptions, we will proceed with the one-way ANOVA.\n",
    "\n",
    "import statsmodels.api as sm\n",
    "import statsmodels.formula.api as smf\n",
    "from scipy import stats"
   ]
  },
  {
   "cell_type": "code",
   "execution_count": 81,
   "id": "15cce25d-f9c5-4c5e-a98c-44242795dd77",
   "metadata": {},
   "outputs": [],
   "source": [
    "df['Diet'] = df['Diet'].astype('category')"
   ]
  },
  {
   "cell_type": "code",
   "execution_count": 82,
   "id": "ed12be0d-e9ed-4ca5-8c22-747c7def6449",
   "metadata": {},
   "outputs": [],
   "source": [
    "model = smf.ols('weight6weeks_boxcox ~ C(Diet)', data=df).fit()"
   ]
  },
  {
   "cell_type": "code",
   "execution_count": 83,
   "id": "dfd92c27-9321-4b81-a8b3-592e499a93d8",
   "metadata": {},
   "outputs": [
    {
     "name": "stdout",
     "output_type": "stream",
     "text": [
      "One-Way ANOVA Table:\n",
      "            sum_sq    df         F    PR(>F)\n",
      "C(Diet)   0.000041   2.0  0.260092  0.771673\n",
      "Residual  0.005950  75.0       NaN       NaN\n"
     ]
    }
   ],
   "source": [
    "anova_table = sm.stats.anova_lm(model, typ=2)\n",
    "print(\"One-Way ANOVA Table:\")\n",
    "print(anova_table)"
   ]
  },
  {
   "cell_type": "code",
   "execution_count": null,
   "id": "dca165c2-d49f-448d-a5be-2c90f2f21df6",
   "metadata": {},
   "outputs": [],
   "source": []
  }
 ],
 "metadata": {
  "kernelspec": {
   "display_name": "Python 3 (ipykernel)",
   "language": "python",
   "name": "python3"
  },
  "language_info": {
   "codemirror_mode": {
    "name": "ipython",
    "version": 3
   },
   "file_extension": ".py",
   "mimetype": "text/x-python",
   "name": "python",
   "nbconvert_exporter": "python",
   "pygments_lexer": "ipython3",
   "version": "3.13.3"
  }
 },
 "nbformat": 4,
 "nbformat_minor": 5
}
